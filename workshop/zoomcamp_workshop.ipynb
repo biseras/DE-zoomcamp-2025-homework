{
  "nbformat": 4,
  "nbformat_minor": 0,
  "metadata": {
    "colab": {
      "provenance": []
    },
    "kernelspec": {
      "name": "python3",
      "display_name": "Python 3"
    },
    "language_info": {
      "name": "python"
    }
  },
  "cells": [
    {
      "cell_type": "code",
      "execution_count": null,
      "metadata": {
        "id": "nicVjGggs_Zl"
      },
      "outputs": [],
      "source": [
        "!pip install dlt[duckdb]"
      ]
    },
    {
      "cell_type": "code",
      "source": [
        "import dlt\n",
        "print(\"dlt version:\", dlt.__version__)"
      ],
      "metadata": {
        "colab": {
          "base_uri": "https://localhost:8080/"
        },
        "id": "lLDNWs88tPHf",
        "outputId": "3f3e1acb-cd98-41f4-86c7-7219f82275a7"
      },
      "execution_count": 2,
      "outputs": [
        {
          "output_type": "stream",
          "name": "stdout",
          "text": [
            "dlt version: 1.6.1\n"
          ]
        }
      ]
    },
    {
      "cell_type": "code",
      "source": [
        "from dlt.sources.helpers.rest_client import RESTClient\n",
        "from dlt.sources.helpers.rest_client.paginators import PageNumberPaginator\n",
        "import duckdb\n",
        "from google.colab import data_table\n",
        "import json\n",
        "import requests"
      ],
      "metadata": {
        "id": "WxxXVMRqtRUR"
      },
      "execution_count": 16,
      "outputs": []
    },
    {
      "cell_type": "code",
      "source": [
        "@dlt.resource\n",
        "def ny_taxi():\n",
        "    base_url = \"https://us-central1-dlthub-analytics.cloudfunctions.net/data_engineering_zoomcamp_api\"\n",
        "    page = 1\n",
        "\n",
        "    while True:\n",
        "        params = {\"page\": page}\n",
        "        response = requests.get(base_url, params=params)\n",
        "        page_data = response.json()\n",
        "        if not page_data:\n",
        "            break\n",
        "        yield page_data\n",
        "        page += 1\n"
      ],
      "metadata": {
        "id": "Xo_Uwm1ttnIu"
      },
      "execution_count": 31,
      "outputs": []
    },
    {
      "cell_type": "code",
      "source": [
        "pipeline = dlt.pipeline(\n",
        "    pipeline_name=\"ny_taxi_pipeline_zoomcamp\",\n",
        "    destination=\"duckdb\",\n",
        "    dataset_name=\"ny_taxi_data_api\"\n",
        ")\n",
        "\n",
        "load_info = pipeline.run(ny_taxi)\n",
        "print(\"Data Load Info:\", load_info)"
      ],
      "metadata": {
        "id": "24kjS_Rdt5wp"
      },
      "execution_count": null,
      "outputs": []
    },
    {
      "cell_type": "code",
      "source": [
        "import duckdb\n",
        "from google.colab import data_table\n",
        "data_table.enable_dataframe_formatter()\n",
        "\n",
        "# A database '<pipeline_name>.duckdb' was created in working directory so just connect to it\n",
        "\n",
        "conn = duckdb.connect(f\"{pipeline.pipeline_name}.duckdb\")\n",
        "\n",
        "conn.sql(f\"SET search_path = '{pipeline.dataset_name}'\")\n",
        "\n",
        "conn.sql(\"DESCRIBE\").df()\n",
        "\n",
        "tables = conn.sql(\"SHOW TABLES\").df()\n",
        "\n",
        "print(tables)\n",
        "\n",
        "num_tables = len(tables)\n",
        "print(f\"Number of tables: {num_tables}\")\n"
      ],
      "metadata": {
        "colab": {
          "base_uri": "https://localhost:8080/"
        },
        "id": "5OMYmtfX2BwB",
        "outputId": "899e3a38-b725-490e-80bc-7973646e33d5"
      },
      "execution_count": 27,
      "outputs": [
        {
          "output_type": "stream",
          "name": "stdout",
          "text": [
            "                  name\n",
            "0           _dlt_loads\n",
            "1  _dlt_pipeline_state\n",
            "2         _dlt_version\n",
            "3              ny_taxi\n",
            "Number of tables: 4\n"
          ]
        }
      ]
    },
    {
      "cell_type": "code",
      "source": [
        "df = pipeline.dataset(dataset_type=\"default\").ny_taxi.df()\n",
        "\n",
        "print(len(df))"
      ],
      "metadata": {
        "colab": {
          "base_uri": "https://localhost:8080/"
        },
        "id": "EQl5rXgc3GP4",
        "outputId": "18725247-467a-45ea-8c75-c7b3da9c24c8"
      },
      "execution_count": 35,
      "outputs": [
        {
          "output_type": "stream",
          "name": "stdout",
          "text": [
            "10000\n"
          ]
        }
      ]
    },
    {
      "cell_type": "code",
      "source": [
        "with pipeline.sql_client() as client:\n",
        "    res = client.execute_sql(\n",
        "            \"\"\"\n",
        "            SELECT\n",
        "            AVG(date_diff('minute', trip_pickup_date_time, trip_dropoff_date_time))\n",
        "            FROM ny_taxi;\n",
        "            \"\"\"\n",
        "        )\n",
        "    # Prints column values of the first row\n",
        "    print(res)"
      ],
      "metadata": {
        "colab": {
          "base_uri": "https://localhost:8080/"
        },
        "id": "RzlgOOl-3Moi",
        "outputId": "6aafb867-4f2f-48b4-c571-b92f2ac37196"
      },
      "execution_count": 32,
      "outputs": [
        {
          "output_type": "stream",
          "name": "stdout",
          "text": [
            "[(12.3049,)]\n"
          ]
        }
      ]
    }
  ]
}